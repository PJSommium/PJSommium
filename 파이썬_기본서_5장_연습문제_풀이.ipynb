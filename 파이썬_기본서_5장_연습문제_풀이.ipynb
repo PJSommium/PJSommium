{
  "nbformat": 4,
  "nbformat_minor": 0,
  "metadata": {
    "colab": {
      "name": "파이썬 기본서 5장 연습문제 풀이.ipynb",
      "provenance": [],
      "authorship_tag": "ABX9TyMGmHhJyUzPkct+wlsqxPtE",
      "include_colab_link": true
    },
    "kernelspec": {
      "name": "python3",
      "display_name": "Python 3"
    },
    "language_info": {
      "name": "python"
    }
  },
  "cells": [
    {
      "cell_type": "markdown",
      "metadata": {
        "id": "view-in-github",
        "colab_type": "text"
      },
      "source": [
        "<a href=\"https://colab.research.google.com/github/PJSommium/PJSommium/blob/main/%ED%8C%8C%EC%9D%B4%EC%8D%AC_%EA%B8%B0%EB%B3%B8%EC%84%9C_5%EC%9E%A5_%EC%97%B0%EC%8A%B5%EB%AC%B8%EC%A0%9C_%ED%92%80%EC%9D%B4.ipynb\" target=\"_parent\"><img src=\"https://colab.research.google.com/assets/colab-badge.svg\" alt=\"Open In Colab\"/></a>"
      ]
    },
    {
      "cell_type": "code",
      "metadata": {
        "colab": {
          "base_uri": "https://localhost:8080/"
        },
        "id": "h_qq0-zuvHWT",
        "outputId": "3176d91a-671d-4618-c881-217dfd884a04"
      },
      "source": [
        "def test(t):\n",
        "  t=20\n",
        "  print(\"In Fuction:\", t)\n",
        "\n",
        "x=10\n",
        "print(\"Before:\",x)\n",
        "test(x)\n",
        "print(\"After:\",x)"
      ],
      "execution_count": null,
      "outputs": [
        {
          "output_type": "stream",
          "text": [
            "Before: 10\n",
            "In Fuction: 20\n",
            "After: 10\n"
          ],
          "name": "stdout"
        }
      ]
    },
    {
      "cell_type": "code",
      "metadata": {
        "colab": {
          "base_uri": "https://localhost:8080/"
        },
        "id": "GU2yD_Bfw26P",
        "outputId": "3bca10e6-03d6-4147-f1be-3e0bc642f18e"
      },
      "source": [
        "def sorting_function(x):\n",
        "  return x.sort()\n",
        "a=[5,4,3,2,1]\n",
        "sorting_function(a)\n",
        "print()"
      ],
      "execution_count": null,
      "outputs": [
        {
          "output_type": "stream",
          "text": [
            "[1, 2, 3, 4, 5]\n",
            "None\n"
          ],
          "name": "stdout"
        }
      ]
    },
    {
      "cell_type": "code",
      "metadata": {
        "colab": {
          "base_uri": "https://localhost:8080/"
        },
        "id": "_QbJzRuxx6C6",
        "outputId": "59be57ed-5625-4d50-ac64-020073804ff0"
      },
      "source": [
        "a= [5,4,3,2,1]\n",
        "a.sort()"
      ],
      "execution_count": null,
      "outputs": [
        {
          "output_type": "stream",
          "text": [
            "None\n"
          ],
          "name": "stdout"
        }
      ]
    },
    {
      "cell_type": "code",
      "metadata": {
        "colab": {
          "base_uri": "https://localhost:8080/"
        },
        "id": "qXZYtvXXzBz2",
        "outputId": "86cfb9f0-b871-446f-f9b3-9298ad0509d6"
      },
      "source": [
        "number = \"100\"\n",
        "def midterm(number):\n",
        "  result =\"\"\n",
        "  if number.isdigit() is True and number is 100 and number/10 ==1:\n",
        "        result = True\n",
        "  else:\n",
        "    result = False\n",
        "\n",
        "  return result\n",
        "\n",
        "midterm(number)"
      ],
      "execution_count": null,
      "outputs": [
        {
          "output_type": "execute_result",
          "data": {
            "text/plain": [
              "False"
            ]
          },
          "metadata": {
            "tags": []
          },
          "execution_count": 44
        }
      ]
    },
    {
      "cell_type": "code",
      "metadata": {
        "colab": {
          "base_uri": "https://localhost:8080/",
          "height": 35
        },
        "id": "Y1e0sk1X9t8L",
        "outputId": "1e33b7a3-3fb2-485b-ed90-625a4cfffc51"
      },
      "source": [
        "number = \"100\"\n",
        "def midterm(number):\n",
        "  result = \"\"\n",
        "  if number.isdigit() is True:\n",
        "    if number is 100:\n",
        "      if number/10 == 1:\n",
        "      result = True\n",
        "  else:\n",
        "    result = False\n",
        "\n",
        "  return result\n",
        "\n",
        "midterm(number)"
      ],
      "execution_count": null,
      "outputs": [
        {
          "output_type": "execute_result",
          "data": {
            "application/vnd.google.colaboratory.intrinsic+json": {
              "type": "string"
            },
            "text/plain": [
              "''"
            ]
          },
          "metadata": {
            "tags": []
          },
          "execution_count": 49
        }
      ]
    },
    {
      "cell_type": "code",
      "metadata": {
        "colab": {
          "base_uri": "https://localhost:8080/",
          "height": 35
        },
        "id": "VZtVGNxy-zAI",
        "outputId": "944053d6-2c08-4962-d2cf-eeabb61772ac"
      },
      "source": [
        "def is_yes(your_answer):\n",
        "  if your_answer.upper() == \"YES\" or you_answer.upper()==\"Y\":\n",
        "    result = your_answer.lower()\n",
        "\n",
        "  return result\n",
        "\n",
        "is_yes(\"Yes\")"
      ],
      "execution_count": null,
      "outputs": [
        {
          "output_type": "execute_result",
          "data": {
            "application/vnd.google.colaboratory.intrinsic+json": {
              "type": "string"
            },
            "text/plain": [
              "'yes'"
            ]
          },
          "metadata": {
            "tags": []
          },
          "execution_count": 52
        }
      ]
    },
    {
      "cell_type": "code",
      "metadata": {
        "colab": {
          "base_uri": "https://localhost:8080/"
        },
        "id": "bewGRe6x_Z_m",
        "outputId": "8c4f2ca5-2fb2-49ad-fd05-388c68f6bd43"
      },
      "source": [
        "def add_and_mul(a,b,c):\n",
        "  return b+a*c+b\n",
        "\n",
        "print(add_and_mul(3,4,5) == 63)"
      ],
      "execution_count": null,
      "outputs": [
        {
          "output_type": "stream",
          "text": [
            "False\n"
          ],
          "name": "stdout"
        }
      ]
    },
    {
      "cell_type": "code",
      "metadata": {
        "colab": {
          "base_uri": "https://localhost:8080/",
          "height": 204
        },
        "id": "TxfW5oMDEwll",
        "outputId": "393b775b-01c8-49b5-dcba-ee2cb7f1499a"
      },
      "source": [
        "def args_test_3(one, two, *args, three):\n",
        "  print(one+two+sum(args))\n",
        "  print(args)\n",
        "\n",
        "args_test_3(3,4,5,6,7)"
      ],
      "execution_count": null,
      "outputs": [
        {
          "output_type": "error",
          "ename": "TypeError",
          "evalue": "ignored",
          "traceback": [
            "\u001b[0;31m---------------------------------------------------------------------------\u001b[0m",
            "\u001b[0;31mTypeError\u001b[0m                                 Traceback (most recent call last)",
            "\u001b[0;32m<ipython-input-56-1dd141bcf3ac>\u001b[0m in \u001b[0;36m<module>\u001b[0;34m()\u001b[0m\n\u001b[1;32m      3\u001b[0m   \u001b[0mprint\u001b[0m\u001b[0;34m(\u001b[0m\u001b[0margs\u001b[0m\u001b[0;34m)\u001b[0m\u001b[0;34m\u001b[0m\u001b[0;34m\u001b[0m\u001b[0m\n\u001b[1;32m      4\u001b[0m \u001b[0;34m\u001b[0m\u001b[0m\n\u001b[0;32m----> 5\u001b[0;31m \u001b[0margs_test_3\u001b[0m\u001b[0;34m(\u001b[0m\u001b[0;36m3\u001b[0m\u001b[0;34m,\u001b[0m\u001b[0;36m4\u001b[0m\u001b[0;34m,\u001b[0m\u001b[0;36m5\u001b[0m\u001b[0;34m,\u001b[0m\u001b[0;36m6\u001b[0m\u001b[0;34m,\u001b[0m\u001b[0;36m7\u001b[0m\u001b[0;34m)\u001b[0m\u001b[0;34m\u001b[0m\u001b[0;34m\u001b[0m\u001b[0m\n\u001b[0m",
            "\u001b[0;31mTypeError\u001b[0m: args_test_3() missing 1 required keyword-only argument: 'three'"
          ]
        }
      ]
    },
    {
      "cell_type": "code",
      "metadata": {
        "colab": {
          "base_uri": "https://localhost:8080/"
        },
        "id": "3T1ScO-IFhre",
        "outputId": "2e75a37f-c914-45fd-fed5-cb8fe10e9206"
      },
      "source": [
        "def rain(colors):\n",
        "  colors.append(\"purple\")\n",
        "  colors=[\"green\", \"blue\"]\n",
        "  return colors\n",
        "\n",
        "rainbow =[\"red\",\"orange\"]\n",
        "rain(rainbow)"
      ],
      "execution_count": 30,
      "outputs": [
        {
          "output_type": "execute_result",
          "data": {
            "text/plain": [
              "['green', 'blue']"
            ]
          },
          "metadata": {
            "tags": []
          },
          "execution_count": 30
        }
      ]
    },
    {
      "cell_type": "code",
      "metadata": {
        "colab": {
          "base_uri": "https://localhost:8080/"
        },
        "id": "OB5DHCptHCHc",
        "outputId": "c64e1b16-ffa5-4412-b7f0-97edd1428823"
      },
      "source": [
        "def spam(eggs):\n",
        "  eggs.append(1)\n",
        "  eggs=[2,3]\n",
        "  return eggs\n",
        "\n",
        "ham=[0]\n",
        "print(spam(ham))\n",
        "print(ham)"
      ],
      "execution_count": 32,
      "outputs": [
        {
          "output_type": "stream",
          "text": [
            "[2, 3]\n",
            "[0, 1]\n"
          ],
          "name": "stdout"
        }
      ]
    },
    {
      "cell_type": "code",
      "metadata": {
        "colab": {
          "base_uri": "https://localhost:8080/"
        },
        "id": "BrYJRNolU2rA",
        "outputId": "478d6a07-0371-4379-cf11-68402d6de44a"
      },
      "source": [
        "def function(value):\n",
        "  print(value**3)\n",
        "  \n",
        "print(function(2))"
      ],
      "execution_count": null,
      "outputs": [
        {
          "output_type": "stream",
          "text": [
            "8\n",
            "None\n"
          ],
          "name": "stdout"
        }
      ]
    },
    {
      "cell_type": "code",
      "metadata": {
        "colab": {
          "base_uri": "https://localhost:8080/"
        },
        "id": "t7O8UE-VX8pR",
        "outputId": "6f22fc17-5917-4348-9786-928fd2fef7f2"
      },
      "source": [
        "a=3\n",
        "def cal(x):\n",
        " return x*3\n",
        "\n",
        "cal(a)\n",
        "print(a)\n"
      ],
      "execution_count": null,
      "outputs": [
        {
          "output_type": "stream",
          "text": [
            "3\n"
          ],
          "name": "stdout"
        }
      ]
    },
    {
      "cell_type": "code",
      "metadata": {
        "colab": {
          "base_uri": "https://localhost:8080/"
        },
        "id": "U6nrt6GNYmrE",
        "outputId": "fccd8f94-0a14-49e7-aa1b-d180589d7663"
      },
      "source": [
        "a=[3]\n",
        "def cal(x):\n",
        "  x[0]=x[0]*3\n",
        "\n",
        "cal(a)\n",
        "print(a)"
      ],
      "execution_count": null,
      "outputs": [
        {
          "output_type": "stream",
          "text": [
            "[9]\n"
          ],
          "name": "stdout"
        }
      ]
    },
    {
      "cell_type": "code",
      "metadata": {
        "id": "Z1IvIhVKneiW"
      },
      "source": [
        ""
      ],
      "execution_count": null,
      "outputs": []
    },
    {
      "cell_type": "code",
      "metadata": {
        "id": "DsmgCCV2VgqB",
        "colab": {
          "base_uri": "https://localhost:8080/"
        },
        "outputId": "0fbaedb8-be7b-4978-fcbd-18b5eb599059"
      },
      "source": [
        "def get_apple(fruit):\n",
        "  fruit = list(fruit)\n",
        "  fruit.append(\"e\")\n",
        "  fruit = [\"apple\"]\n",
        "  return fruit\n",
        "\n",
        "fruit = \"appl\"\n",
        "print(get_apple(fruit))\n",
        "print(fruit)\n"
      ],
      "execution_count": 41,
      "outputs": [
        {
          "output_type": "stream",
          "text": [
            "['apple']\n",
            "appl\n"
          ],
          "name": "stdout"
        }
      ]
    },
    {
      "cell_type": "code",
      "metadata": {
        "colab": {
          "base_uri": "https://localhost:8080/"
        },
        "id": "tnRROp8PpGF1",
        "outputId": "51edf652-0b31-4c99-acb9-d5468bcd5a71"
      },
      "source": [
        "fruit = \"appl\"\n",
        "fruit = list(fruit)\n",
        "fruit.append(\"e\")\n",
        "print(fruit)"
      ],
      "execution_count": 37,
      "outputs": [
        {
          "output_type": "stream",
          "text": [
            "['a', 'p', 'p', 'l', 'e']\n"
          ],
          "name": "stdout"
        }
      ]
    },
    {
      "cell_type": "code",
      "metadata": {
        "colab": {
          "base_uri": "https://localhost:8080/"
        },
        "id": "CuefqDhyqlLW",
        "outputId": "b280bc63-63d7-4f5e-fa67-9691ae46392d"
      },
      "source": [
        "def return_sentence(sentence, n):\n",
        "  sentence +=str(n)\n",
        "  n-=1\n",
        "  if n<0:\n",
        "    return sentence\n",
        "  else:\n",
        "    return (return_sentence(sentence,n))\n",
        "\n",
        "sentence = \"I Love you\"\n",
        "print(return_sentence(sentence,5))"
      ],
      "execution_count": 44,
      "outputs": [
        {
          "output_type": "stream",
          "text": [
            "I Love you543210\n"
          ],
          "name": "stdout"
        }
      ]
    },
    {
      "cell_type": "code",
      "metadata": {
        "colab": {
          "base_uri": "https://localhost:8080/"
        },
        "id": "5eAJ0Tuprwtz",
        "outputId": "9d41ab43-0f49-43b7-9649-2f815ba7f978"
      },
      "source": [
        "def test(x,y):\n",
        "  tmp = x\n",
        "  x = y\n",
        "  y = tmp\n",
        "  return y.append(x)\n",
        "\n",
        "x=[\"y\"]\n",
        "y=[\"x\"]\n",
        "print(test(x,y))\n",
        "print(y)\n",
        "\n"
      ],
      "execution_count": 52,
      "outputs": [
        {
          "output_type": "stream",
          "text": [
            "None\n",
            "['x']\n"
          ],
          "name": "stdout"
        }
      ]
    },
    {
      "cell_type": "code",
      "metadata": {
        "colab": {
          "base_uri": "https://localhost:8080/"
        },
        "id": "I72AvWNqtOQN",
        "outputId": "e15e5fd1-5d93-4d45-cd4f-0449d066daf3"
      },
      "source": [
        "def countdown(n):\n",
        "  if n%2==0:\n",
        "    print(\"Even\")\n",
        "  else:\n",
        "    print(\"Odd\")\n",
        "    countdown(n-1)\n",
        "countdown(3)"
      ],
      "execution_count": 77,
      "outputs": [
        {
          "output_type": "stream",
          "text": [
            "Odd\n",
            "Even\n"
          ],
          "name": "stdout"
        }
      ]
    },
    {
      "cell_type": "code",
      "metadata": {
        "colab": {
          "base_uri": "https://localhost:8080/"
        },
        "id": "gGKUqJZhu783",
        "outputId": "b2f1caea-436c-4db1-e50e-635cdd5ec8e3"
      },
      "source": [
        "def factorial_calculator(n):\n",
        "  if n in (0,1):\n",
        "    return 1\n",
        "  else:\n",
        "    return n * factorial_calculator(n-1)\n",
        "print(factorial_calculator(5))"
      ],
      "execution_count": 78,
      "outputs": [
        {
          "output_type": "stream",
          "text": [
            "120\n"
          ],
          "name": "stdout"
        }
      ]
    },
    {
      "cell_type": "code",
      "metadata": {
        "colab": {
          "base_uri": "https://localhost:8080/"
        },
        "id": "XpbXms12vkVE",
        "outputId": "c1be16c5-468d-41f4-8e6b-f1d27cb6838c"
      },
      "source": [
        "def calculate_rectangle_area(rectangle_x, rectangle_y):\n",
        "  rectangle_x = 3\n",
        "  rectangle_y = 5\n",
        "  result = rectangle_x * rectangle_y\n",
        "  return result\n",
        "\n",
        "rectangle_x=2\n",
        "rectangle_y=4\n",
        "print(calculate_rectangle_area(rectangle_x, rectangle_y))"
      ],
      "execution_count": 80,
      "outputs": [
        {
          "output_type": "stream",
          "text": [
            "15\n"
          ],
          "name": "stdout"
        }
      ]
    },
    {
      "cell_type": "code",
      "metadata": {
        "colab": {
          "base_uri": "https://localhost:8080/"
        },
        "id": "mEOtpkPG5e7E",
        "outputId": "564e86e4-1736-40a8-e9ce-7c41ebe282f1"
      },
      "source": [
        "def exam_func():\n",
        "  x=10\n",
        "  print(\"Value:\",x)\n",
        "\n",
        "x=20\n",
        "exam_func()\n",
        "print(\"Value:\",x)\n"
      ],
      "execution_count": 81,
      "outputs": [
        {
          "output_type": "stream",
          "text": [
            "Value: 10\n",
            "Value: 20\n"
          ],
          "name": "stdout"
        }
      ]
    },
    {
      "cell_type": "code",
      "metadata": {
        "id": "3kQE68Ee5zjw"
      },
      "source": [
        "country = [\"Korea\", \"Japan\", \"China\"]\n",
        "country.append(\"Remove\")\n",
        "country.remove(\"Remove\")\n"
      ],
      "execution_count": 99,
      "outputs": []
    },
    {
      "cell_type": "code",
      "metadata": {
        "colab": {
          "base_uri": "https://localhost:8080/"
        },
        "id": "Px9H0Fo_6mRT",
        "outputId": "1645660a-69fe-4865-f26a-d416c31d770e"
      },
      "source": [
        "Subject = [\"Mathematics\", \"English\",\"Korean\"]\n",
        "Subject.append(\"Science\")\n",
        "Subject.remove(\"Science\")"
      ],
      "execution_count": 97,
      "outputs": [
        {
          "output_type": "stream",
          "text": [
            "['Mathematics', 'English', 'Korean']\n"
          ],
          "name": "stdout"
        }
      ]
    }
  ]
}