{
  "nbformat": 4,
  "nbformat_minor": 0,
  "metadata": {
    "colab": {
      "name": "파이썬 입문 Chapter 7-4",
      "provenance": [],
      "authorship_tag": "ABX9TyNmIpIo+5k2QdVIVQHfd12D",
      "include_colab_link": true
    },
    "kernelspec": {
      "name": "python3",
      "display_name": "Python 3"
    },
    "language_info": {
      "name": "python"
    }
  },
  "cells": [
    {
      "cell_type": "markdown",
      "metadata": {
        "id": "view-in-github",
        "colab_type": "text"
      },
      "source": [
        "<a href=\"https://colab.research.google.com/github/PJSommium/PJSommium/blob/main/%ED%8C%8C%EC%9D%B4%EC%8D%AC_%EC%9E%85%EB%AC%B8_Chapter_7_4.ipynb\" target=\"_parent\"><img src=\"https://colab.research.google.com/assets/colab-badge.svg\" alt=\"Open In Colab\"/></a>"
      ]
    },
    {
      "cell_type": "code",
      "metadata": {
        "colab": {
          "base_uri": "https://localhost:8080/"
        },
        "id": "aH-Mh1bCWMwL",
        "outputId": "cb45cbef-06aa-4015-f4c5-6a921b0c6126"
      },
      "source": [
        "#딕셔너리 연습\n",
        "student_info= {20172977:'P',20172978:'J',20172979:'S'}\n",
        "student_info[20172977]\n",
        "student_info[20172980]='E'\n",
        "student_info\n",
        "student_info.items()\n",
        "\n",
        "for k,v in student_info.items():\n",
        "  print(k,v)\n",
        "\n",
        "\"P\" in student_info.values()\n",
        "20172977 in student_info.keys()\n"
      ],
      "execution_count": 19,
      "outputs": [
        {
          "output_type": "stream",
          "text": [
            "20172977 P\n",
            "20172978 J\n",
            "20172979 S\n",
            "20172980 E\n"
          ],
          "name": "stdout"
        },
        {
          "output_type": "execute_result",
          "data": {
            "text/plain": [
              "bool"
            ]
          },
          "metadata": {
            "tags": []
          },
          "execution_count": 19
        }
      ]
    }
  ]
}