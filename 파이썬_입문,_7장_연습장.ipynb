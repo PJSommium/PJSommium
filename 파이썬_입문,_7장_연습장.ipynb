{
  "nbformat": 4,
  "nbformat_minor": 0,
  "metadata": {
    "colab": {
      "name": "파이썬 입문, 7장 연습장.ipynb",
      "provenance": [],
      "authorship_tag": "ABX9TyMDh95zK9F3t/RCLfomCKR7",
      "include_colab_link": true
    },
    "kernelspec": {
      "name": "python3",
      "display_name": "Python 3"
    },
    "language_info": {
      "name": "python"
    }
  },
  "cells": [
    {
      "cell_type": "markdown",
      "metadata": {
        "id": "view-in-github",
        "colab_type": "text"
      },
      "source": [
        "<a href=\"https://colab.research.google.com/github/PJSommium/PJSommium/blob/main/%ED%8C%8C%EC%9D%B4%EC%8D%AC_%EC%9E%85%EB%AC%B8%2C_7%EC%9E%A5_%EC%97%B0%EC%8A%B5%EC%9E%A5.ipynb\" target=\"_parent\"><img src=\"https://colab.research.google.com/assets/colab-badge.svg\" alt=\"Open In Colab\"/></a>"
      ]
    },
    {
      "cell_type": "code",
      "metadata": {
        "colab": {
          "base_uri": "https://localhost:8080/"
        },
        "id": "dU9XJ-abXS2h",
        "outputId": "e460f815-f80e-4c53-b4f8-28f7fbb5a3fd"
      },
      "source": [
        "a=[1,2,3,4,5]\n",
        "a.append(10)\n",
        "a\n",
        "a.append(20)\n",
        "a\n",
        "a.pop()\n",
        "a"
      ],
      "execution_count": 8,
      "outputs": [
        {
          "output_type": "execute_result",
          "data": {
            "text/plain": [
              "[1, 2, 3, 4, 5, 10]"
            ]
          },
          "metadata": {
            "tags": []
          },
          "execution_count": 8
        }
      ]
    },
    {
      "cell_type": "code",
      "metadata": {
        "id": "QX6YxXWva15L"
      },
      "source": [
        "word = input(\"Input a word :\")\n",
        "world_list=list(word)\n",
        "print(world_list)\n",
        "\n",
        "result=[]\n",
        "for _in range(len(world_list)):\n",
        "  result.append(world_list.pop())\n",
        "\n",
        "print(result)\n",
        "print(word[::-1)\n"
      ],
      "execution_count": null,
      "outputs": []
    },
    {
      "cell_type": "code",
      "metadata": {
        "colab": {
          "base_uri": "https://localhost:8080/"
        },
        "id": "2pjsIh_Sccrr",
        "outputId": "02c7d580-2a51-4cb4-f5d3-4c460545f3fd"
      },
      "source": [
        "a=[1,2,3,4,5]\n",
        "a.append(10)\n",
        "a.append(20)\n",
        "a.pop(0)\n",
        "a.pop(0)\n"
      ],
      "execution_count": 10,
      "outputs": [
        {
          "output_type": "execute_result",
          "data": {
            "text/plain": [
              "2"
            ]
          },
          "metadata": {
            "tags": []
          },
          "execution_count": 10
        }
      ]
    },
    {
      "cell_type": "code",
      "metadata": {
        "colab": {
          "base_uri": "https://localhost:8080/"
        },
        "id": "iobRhIqqdsdL",
        "outputId": "7dff05a4-02ab-435e-9870-bea3ebcdfabf"
      },
      "source": [
        "s=set([1,2,3,1,2,3])\n",
        "s\n",
        "s.add(1)\n",
        "s\n",
        "s.remove(1)\n",
        "s\n",
        "s.update([1,4,5,6,7])\n",
        "s\n",
        "s.discard(3)\n",
        "s\n",
        "s.clear()\n",
        "s"
      ],
      "execution_count": 36,
      "outputs": [
        {
          "output_type": "execute_result",
          "data": {
            "text/plain": [
              "set()"
            ]
          },
          "metadata": {
            "tags": []
          },
          "execution_count": 36
        }
      ]
    },
    {
      "cell_type": "code",
      "metadata": {
        "colab": {
          "base_uri": "https://localhost:8080/"
        },
        "id": "1uZ_9UcalDcG",
        "outputId": "ad4442eb-0cf2-433b-f4a0-61d8c2aac9ba"
      },
      "source": [
        "s1 = set([1,2,3,4,5])\n",
        "s2 = set([3,4,5,6,7])\n",
        "s3 = s1.union(s2)\n",
        "s1.difference(s2)\n",
        "s1 | s2"
      ],
      "execution_count": 45,
      "outputs": [
        {
          "output_type": "execute_result",
          "data": {
            "text/plain": [
              "{1, 2, 3, 4, 5, 6, 7}"
            ]
          },
          "metadata": {
            "tags": []
          },
          "execution_count": 45
        }
      ]
    },
    {
      "cell_type": "code",
      "metadata": {
        "id": "_0wf3wOCmHk_"
      },
      "source": [
        ""
      ],
      "execution_count": null,
      "outputs": []
    }
  ]
}