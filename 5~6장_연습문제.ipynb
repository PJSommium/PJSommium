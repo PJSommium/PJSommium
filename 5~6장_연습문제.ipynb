{
  "nbformat": 4,
  "nbformat_minor": 0,
  "metadata": {
    "colab": {
      "name": "5~6장 연습문제.ipynb",
      "provenance": [],
      "authorship_tag": "ABX9TyN42RPrj+J0q7qAXx4eY/6O",
      "include_colab_link": true
    },
    "kernelspec": {
      "name": "python3",
      "display_name": "Python 3"
    },
    "language_info": {
      "name": "python"
    }
  },
  "cells": [
    {
      "cell_type": "markdown",
      "metadata": {
        "id": "view-in-github",
        "colab_type": "text"
      },
      "source": [
        "<a href=\"https://colab.research.google.com/github/PJSommium/PJSommium/blob/main/5~6%EC%9E%A5_%EC%97%B0%EC%8A%B5%EB%AC%B8%EC%A0%9C.ipynb\" target=\"_parent\"><img src=\"https://colab.research.google.com/assets/colab-badge.svg\" alt=\"Open In Colab\"/></a>"
      ]
    },
    {
      "cell_type": "code",
      "metadata": {
        "colab": {
          "base_uri": "https://localhost:8080/"
        },
        "id": "h_qq0-zuvHWT",
        "outputId": "3176d91a-671d-4618-c881-217dfd884a04"
      },
      "source": [
        "def test(t):\n",
        "  t=20\n",
        "  print(\"In Fuction:\", t)\n",
        "\n",
        "x=10\n",
        "print(\"Before:\",x)\n",
        "test(x)\n",
        "print(\"After:\",x)"
      ],
      "execution_count": 4,
      "outputs": [
        {
          "output_type": "stream",
          "text": [
            "Before: 10\n",
            "In Fuction: 20\n",
            "After: 10\n"
          ],
          "name": "stdout"
        }
      ]
    },
    {
      "cell_type": "code",
      "metadata": {
        "colab": {
          "base_uri": "https://localhost:8080/"
        },
        "id": "GU2yD_Bfw26P",
        "outputId": "3bca10e6-03d6-4147-f1be-3e0bc642f18e"
      },
      "source": [
        "def sorting_function(x):\n",
        "  return x.sort()\n",
        "a=[5,4,3,2,1]\n",
        "sorting_function(a)\n",
        "print()"
      ],
      "execution_count": 23,
      "outputs": [
        {
          "output_type": "stream",
          "text": [
            "[1, 2, 3, 4, 5]\n",
            "None\n"
          ],
          "name": "stdout"
        }
      ]
    },
    {
      "cell_type": "code",
      "metadata": {
        "colab": {
          "base_uri": "https://localhost:8080/"
        },
        "id": "_QbJzRuxx6C6",
        "outputId": "59be57ed-5625-4d50-ac64-020073804ff0"
      },
      "source": [
        "a= [5,4,3,2,1]\n",
        "a.sort()"
      ],
      "execution_count": 12,
      "outputs": [
        {
          "output_type": "stream",
          "text": [
            "None\n"
          ],
          "name": "stdout"
        }
      ]
    },
    {
      "cell_type": "code",
      "metadata": {
        "colab": {
          "base_uri": "https://localhost:8080/"
        },
        "id": "qXZYtvXXzBz2",
        "outputId": "86cfb9f0-b871-446f-f9b3-9298ad0509d6"
      },
      "source": [
        "number = \"100\"\n",
        "def midterm(number):\n",
        "  result =\"\"\n",
        "  if number.isdigit() is True and number is 100 and number/10 ==1:\n",
        "        result = True\n",
        "  else:\n",
        "    result = False\n",
        "\n",
        "  return result\n",
        "\n",
        "midterm(number)"
      ],
      "execution_count": 44,
      "outputs": [
        {
          "output_type": "execute_result",
          "data": {
            "text/plain": [
              "False"
            ]
          },
          "metadata": {
            "tags": []
          },
          "execution_count": 44
        }
      ]
    }
  ]
}