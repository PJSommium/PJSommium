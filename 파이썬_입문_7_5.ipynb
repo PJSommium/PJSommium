{
  "nbformat": 4,
  "nbformat_minor": 0,
  "metadata": {
    "colab": {
      "name": "파이썬 입문 7-5.ipynb",
      "provenance": [],
      "authorship_tag": "ABX9TyOrdc92/hcJLdE16Ld0BlA9",
      "include_colab_link": true
    },
    "kernelspec": {
      "name": "python3",
      "display_name": "Python 3"
    },
    "language_info": {
      "name": "python"
    }
  },
  "cells": [
    {
      "cell_type": "markdown",
      "metadata": {
        "id": "view-in-github",
        "colab_type": "text"
      },
      "source": [
        "<a href=\"https://colab.research.google.com/github/PJSommium/PJSommium/blob/main/%ED%8C%8C%EC%9D%B4%EC%8D%AC_%EC%9E%85%EB%AC%B8_7_5.ipynb\" target=\"_parent\"><img src=\"https://colab.research.google.com/assets/colab-badge.svg\" alt=\"Open In Colab\"/></a>"
      ]
    },
    {
      "cell_type": "code",
      "metadata": {
        "colab": {
          "base_uri": "https://localhost:8080/"
        },
        "id": "0k4BVxheZBsf",
        "outputId": "a400c773-e5e4-4f59-fbf9-5d67a2706a4c"
      },
      "source": [
        "#collections 모듈/ deque 1\n",
        "from collections import deque\n",
        "deque_list = deque()\n",
        "for i in range(5):\n",
        "  deque_list.append(i)\n",
        "\n",
        "print(deque_list)\n",
        "\n"
      ],
      "execution_count": 3,
      "outputs": [
        {
          "output_type": "stream",
          "text": [
            "deque([0, 1, 2, 3, 4])\n"
          ],
          "name": "stdout"
        }
      ]
    },
    {
      "cell_type": "code",
      "metadata": {
        "colab": {
          "base_uri": "https://localhost:8080/"
        },
        "id": "NgA9ZwXreMWH",
        "outputId": "335e5156-ce1d-4f54-96a9-6830f31e13fc"
      },
      "source": [
        "#deque 2\n",
        "from collections import deque\n",
        "deque_list = deque()\n",
        "for i in range(5):\n",
        "  deque_list.appendleft(i)\n",
        "\n",
        "print(deque_list)"
      ],
      "execution_count": 4,
      "outputs": [
        {
          "output_type": "stream",
          "text": [
            "deque([4, 3, 2, 1, 0])\n"
          ],
          "name": "stdout"
        }
      ]
    },
    {
      "cell_type": "code",
      "metadata": {
        "colab": {
          "base_uri": "https://localhost:8080/"
        },
        "id": "ZEc56KOleZ7g",
        "outputId": "ac4d8014-ba80-4326-8b66-6e83fef73a43"
      },
      "source": [
        "# OrderedDict 모듈\n",
        "d = {}\n",
        "d['x']=100\n",
        "d['l']=500\n",
        "d['y']=200\n",
        "d['z']=300\n",
        "\n",
        "for k,v in d.items(): \n",
        "  print(k,v)"
      ],
      "execution_count": 5,
      "outputs": [
        {
          "output_type": "stream",
          "text": [
            "x 100\n",
            "l 500\n",
            "y 200\n",
            "z 300\n"
          ],
          "name": "stdout"
        }
      ]
    },
    {
      "cell_type": "code",
      "metadata": {
        "colab": {
          "base_uri": "https://localhost:8080/"
        },
        "id": "ca4hH9z3m0Az",
        "outputId": "e9a9a77f-cc9d-4c6c-f95e-b60278cb46f8"
      },
      "source": [
        "d = {}\n",
        "d['x']=100\n",
        "d['l']=500\n",
        "d['y']=200\n",
        "d['z']=300\n"
      ],
      "execution_count": 13,
      "outputs": [
        {
          "output_type": "execute_result",
          "data": {
            "text/plain": [
              "100"
            ]
          },
          "metadata": {
            "tags": []
          },
          "execution_count": 13
        }
      ]
    },
    {
      "cell_type": "code",
      "metadata": {
        "colab": {
          "base_uri": "https://localhost:8080/"
        },
        "id": "cGVG3WiPfSsO",
        "outputId": "0f36cd43-a318-438d-a831-d357e0315e30"
      },
      "source": [
        "## OrderedDict 모듈 2\n",
        "from collections import OrderedDict\n",
        "\n",
        "d=OrderedDict()\n",
        "d['x']=100\n",
        "d['y']=200\n",
        "d['z']=300\n",
        "d['l']=500\n",
        "\n",
        "for k,v in d.items():\n",
        "  print(k,v)\n"
      ],
      "execution_count": 6,
      "outputs": [
        {
          "output_type": "stream",
          "text": [
            "x 100\n",
            "y 200\n",
            "z 300\n",
            "l 500\n"
          ],
          "name": "stdout"
        }
      ]
    },
    {
      "cell_type": "code",
      "metadata": {
        "colab": {
          "base_uri": "https://localhost:8080/"
        },
        "id": "jVzV8vp8f5WR",
        "outputId": "8a256000-039d-47ce-d9ae-ac2ff5123156"
      },
      "source": [
        "def sort_by_key(t):\n",
        "  return t[0]\n",
        "\n",
        "from collections import OrderedDict\n",
        "\n",
        "d=dict()\n",
        "d['x']=100\n",
        "d['y']=200\n",
        "d['z']=300\n",
        "d['l']=500\n",
        "\n",
        "for k,v in OrderedDict(sorted(d.items(), key=sort_by_key)).items():              #sorted는 함수 \n",
        "  print(k,v)\n"
      ],
      "execution_count": 12,
      "outputs": [
        {
          "output_type": "stream",
          "text": [
            "l 500\n",
            "x 100\n",
            "y 200\n",
            "z 300\n"
          ],
          "name": "stdout"
        }
      ]
    },
    {
      "cell_type": "code",
      "metadata": {
        "colab": {
          "base_uri": "https://localhost:8080/"
        },
        "id": "V1vYNcqTiVpA",
        "outputId": "ba0be420-3770-47f0-e0a0-b308cb298a61"
      },
      "source": [
        "#DefaultDict\n",
        "from collections import defaultdict\n",
        "\n",
        "d=defaultdict(lambda : 0)\n",
        "print(d[\"first\"])\n"
      ],
      "execution_count": 14,
      "outputs": [
        {
          "output_type": "stream",
          "text": [
            "0\n"
          ],
          "name": "stdout"
        }
      ]
    },
    {
      "cell_type": "code",
      "metadata": {
        "colab": {
          "base_uri": "https://localhost:8080/"
        },
        "id": "VZRFI2WGnSZY",
        "outputId": "20ceb632-ac65-4e02-e37d-00f7aeff2ceb"
      },
      "source": [
        "#Counter 모듈\n",
        "\n",
        "from collections import Counter\n",
        "\n",
        "text = list(\"gallahad\")\n",
        "text\n",
        "\n",
        "C=Counter(text)\n",
        "C\n",
        "C[\"a\"]"
      ],
      "execution_count": 18,
      "outputs": [
        {
          "output_type": "execute_result",
          "data": {
            "text/plain": [
              "3"
            ]
          },
          "metadata": {
            "tags": []
          },
          "execution_count": 18
        }
      ]
    },
    {
      "cell_type": "code",
      "metadata": {
        "colab": {
          "base_uri": "https://localhost:8080/"
        },
        "id": "iMd5C2OXpvYa",
        "outputId": "6bff0c95-3347-4af1-ef3d-0f75756185a2"
      },
      "source": [
        "# namedtuple 모듈\n",
        "\n",
        "from collections import namedtuple\n",
        "\n",
        "point = namedtuple('Point',['x','y'])\n",
        "p = point(11, y=22)\n",
        "p\n",
        "p.x, p.y\n"
      ],
      "execution_count": 29,
      "outputs": [
        {
          "output_type": "execute_result",
          "data": {
            "text/plain": [
              "(11, 22)"
            ]
          },
          "metadata": {
            "tags": []
          },
          "execution_count": 29
        }
      ]
    }
  ]
}