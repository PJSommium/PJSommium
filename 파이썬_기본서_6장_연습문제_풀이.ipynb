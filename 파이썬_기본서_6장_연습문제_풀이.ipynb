{
  "nbformat": 4,
  "nbformat_minor": 0,
  "metadata": {
    "colab": {
      "name": "파이썬 기본서 6장 연습문제 풀이.ipynb",
      "provenance": [],
      "authorship_tag": "ABX9TyNC6Cdim8wMEop7yyajE+i9",
      "include_colab_link": true
    },
    "kernelspec": {
      "name": "python3",
      "display_name": "Python 3"
    },
    "language_info": {
      "name": "python"
    }
  },
  "cells": [
    {
      "cell_type": "markdown",
      "metadata": {
        "id": "view-in-github",
        "colab_type": "text"
      },
      "source": [
        "<a href=\"https://colab.research.google.com/github/PJSommium/PJSommium/blob/main/%ED%8C%8C%EC%9D%B4%EC%8D%AC_%EA%B8%B0%EB%B3%B8%EC%84%9C_6%EC%9E%A5_%EC%97%B0%EC%8A%B5%EB%AC%B8%EC%A0%9C_%ED%92%80%EC%9D%B4.ipynb\" target=\"_parent\"><img src=\"https://colab.research.google.com/assets/colab-badge.svg\" alt=\"Open In Colab\"/></a>"
      ]
    },
    {
      "cell_type": "code",
      "metadata": {
        "colab": {
          "base_uri": "https://localhost:8080/"
        },
        "id": "S5gLiqIO90eI",
        "outputId": "e3ed1915-2f41-4050-add9-436b2b6a1c25"
      },
      "source": [
        "a=11\n",
        "b=9\n",
        "\n",
        "print('a'+'b')"
      ],
      "execution_count": 1,
      "outputs": [
        {
          "output_type": "stream",
          "text": [
            "ab\n"
          ],
          "name": "stdout"
        }
      ]
    },
    {
      "cell_type": "code",
      "metadata": {
        "colab": {
          "base_uri": "https://localhost:8080/"
        },
        "id": "EoQ6TGXm-icF",
        "outputId": "7930b2ff-baff-4ca5-8a78-a701062327b2"
      },
      "source": [
        "fact =\"Python is funny\"\n",
        "\n",
        "print(str(fact.count('n')+fact.find('n')+fact.rfind('n')))"
      ],
      "execution_count": 2,
      "outputs": [
        {
          "output_type": "stream",
          "text": [
            "21\n"
          ],
          "name": "stdout"
        }
      ]
    },
    {
      "cell_type": "code",
      "metadata": {
        "colab": {
          "base_uri": "https://localhost:8080/"
        },
        "id": "G1BkM3Bv_tLW",
        "outputId": "83e294a5-430a-4ed2-cbd7-f409c42aa137"
      },
      "source": [
        "text = 'Gachon CS50 - programming with python'\n",
        "text2 = \"Human cs50 knowledge belongs to the world\"\n",
        "\n",
        "text.lower\n",
        "\n",
        "print(text[:5]+text[-1]+text[6]+text2.split()[0])"
      ],
      "execution_count": 3,
      "outputs": [
        {
          "output_type": "stream",
          "text": [
            "Gachon Human\n"
          ],
          "name": "stdout"
        }
      ]
    },
    {
      "cell_type": "code",
      "metadata": {
        "colab": {
          "base_uri": "https://localhost:8080/"
        },
        "id": "ymdVSVObA7dP",
        "outputId": "e342a9a9-43f4-4053-c0e8-ecb99c4d0362"
      },
      "source": [
        "class_name='introduction programming with python'\n",
        "\n",
        "class_name.split()\n",
        "for i in class_name:\n",
        "  if i == 'python':\n",
        "    i=i.upper()\n",
        "\n",
        "print(class_name)\n"
      ],
      "execution_count": 12,
      "outputs": [
        {
          "output_type": "stream",
          "text": [
            "introduction programming with python\n"
          ],
          "name": "stdout"
        }
      ]
    },
    {
      "cell_type": "code",
      "metadata": {
        "colab": {
          "base_uri": "https://localhost:8080/"
        },
        "id": "UXN8-HwdB3Tp",
        "outputId": "079fb059-6229-4842-f2f9-d1debc8aeeb2"
      },
      "source": [
        "a='10'\n",
        "b='5-2'.split('-')[1]\n",
        "\n",
        "print(a*3+b)"
      ],
      "execution_count": 7,
      "outputs": [
        {
          "output_type": "stream",
          "text": [
            "1010102\n"
          ],
          "name": "stdout"
        }
      ]
    },
    {
      "cell_type": "code",
      "metadata": {
        "colab": {
          "base_uri": "https://localhost:8080/"
        },
        "id": "iQsCvx0sEByR",
        "outputId": "e1131c22-0343-4d0d-a9db-c8c6d3675166"
      },
      "source": [
        "name = \"Hanbit\"\n",
        "a=name.find(\"H\")\n",
        "b=name.count(\"H\")+4\n",
        "c=len(name)*2 +4\n",
        "print(\"REMEMBER\", str(a)+str(b)+str(c))"
      ],
      "execution_count": 13,
      "outputs": [
        {
          "output_type": "stream",
          "text": [
            "REMEMBER 0516\n"
          ],
          "name": "stdout"
        }
      ]
    },
    {
      "cell_type": "code",
      "metadata": {
        "colab": {
          "base_uri": "https://localhost:8080/"
        },
        "id": "I9WdoFjpEgPD",
        "outputId": "64ed7c34-6ec1-4d04-9cd3-83439e60c2f3"
      },
      "source": [
        "a=\"abcd e f g\"\n",
        "b=a.split()\n",
        "c=(a[:3][0])\n",
        "d=(b[:3][0][0])\n",
        "\n",
        "print(c+d)"
      ],
      "execution_count": 14,
      "outputs": [
        {
          "output_type": "stream",
          "text": [
            "aa\n"
          ],
          "name": "stdout"
        }
      ]
    },
    {
      "cell_type": "code",
      "metadata": {
        "colab": {
          "base_uri": "https://localhost:8080/"
        },
        "id": "z-GpqCwuFF94",
        "outputId": "21a56fc1-2aaf-4986-dea6-0a8925c00b53"
      },
      "source": [
        "number = 10\n",
        "day = 3\n",
        "print(\"I eat %d oranges every day.\" %number)\n",
        "\n",
        "number = 10\n",
        "day = \"three\"\n",
        "print(\"I eat %d oranges every %s days\" %(number,day))\n",
        "print(\"I eat {0:d} oranges every {1:s} days\".format(number, day))"
      ],
      "execution_count": 19,
      "outputs": [
        {
          "output_type": "stream",
          "text": [
            "I eat 10 oranges every day.\n",
            "I eat 10 oranges every three days\n",
            "I eat 10 oranges every three days\n"
          ],
          "name": "stdout"
        }
      ]
    },
    {
      "cell_type": "code",
      "metadata": {
        "colab": {
          "base_uri": "https://localhost:8080/"
        },
        "id": "66nCy_f4F3Nr",
        "outputId": "fd28cbfa-0da4-4e9e-e3a2-9161f20f2baa"
      },
      "source": [
        "result = \"CODE2018\"\n",
        "print(\"{0},{1}\".format(result[-1], result[-2]))\n"
      ],
      "execution_count": 20,
      "outputs": [
        {
          "output_type": "stream",
          "text": [
            "8,1\n"
          ],
          "name": "stdout"
        }
      ]
    },
    {
      "cell_type": "code",
      "metadata": {
        "colab": {
          "base_uri": "https://localhost:8080/"
        },
        "id": "bbG89MoEGHRu",
        "outputId": "32132a7a-c90b-4c0f-b5f7-333e5bcc811b"
      },
      "source": [
        "str_a = \"this is\"\n",
        "str_b = \"PythoN\"\n",
        "print(str_a.title()+\" \"+str_b.upper())"
      ],
      "execution_count": 22,
      "outputs": [
        {
          "output_type": "stream",
          "text": [
            "This Is PYTHON\n"
          ],
          "name": "stdout"
        }
      ]
    },
    {
      "cell_type": "code",
      "metadata": {
        "colab": {
          "base_uri": "https://localhost:8080/"
        },
        "id": "w-f9zqTfGf8e",
        "outputId": "2164958b-c993-41ab-933a-3dba60d3e7d0"
      },
      "source": [
        "number = 10\n",
        "day = 3\n",
        "print(\"I eat %d oranges every day.\" %number)\n",
        "\n",
        "number = 10\n",
        "day = \"three\"\n",
        "print(\"I eat %d oranges every %s days\" %(number,day))\n",
        "print(\"I eat {0:d} oranges every {1:s} days\".format(number, day))\n",
        "print(\"I eat {number:d} oranges every {day:s} days\".format(number=10, day=\"three\"))"
      ],
      "execution_count": 26,
      "outputs": [
        {
          "output_type": "stream",
          "text": [
            "I eat 10 oranges every day.\n",
            "I eat 10 oranges every three days\n",
            "I eat 10 oranges every three days\n",
            "I eat 10 oranges every three days\n"
          ],
          "name": "stdout"
        }
      ]
    }
  ]
}